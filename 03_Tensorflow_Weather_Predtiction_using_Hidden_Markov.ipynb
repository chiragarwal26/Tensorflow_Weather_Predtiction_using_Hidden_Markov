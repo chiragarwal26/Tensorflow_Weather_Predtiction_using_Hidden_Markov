{
  "nbformat": 4,
  "nbformat_minor": 0,
  "metadata": {
    "colab": {
      "provenance": []
    },
    "kernelspec": {
      "name": "python3",
      "display_name": "Python 3"
    },
    "language_info": {
      "name": "python"
    }
  },
  "cells": [
    {
      "cell_type": "code",
      "execution_count": 1,
      "metadata": {
        "colab": {
          "base_uri": "https://localhost:8080/"
        },
        "id": "eSR4NnxfzsEO",
        "outputId": "ceadeb94-ac72-4175-e122-2f6a4fc7e834"
      },
      "outputs": [
        {
          "output_type": "stream",
          "name": "stdout",
          "text": [
            "Colab only includes TensorFlow 2.x; %tensorflow_version has no effect.\n"
          ]
        }
      ],
      "source": [
        "%tensorflow_version 2.x # This line of code is only required if you are in a notebook"
      ]
    },
    {
      "cell_type": "code",
      "source": [
        "# Uncomment the code below if during your model formation some error is coming\n",
        "#!pip install tensorflow_probability==0.8.0rc0 --user --upgrade "
      ],
      "metadata": {
        "id": "ojoXoGAX4Esd"
      },
      "execution_count": null,
      "outputs": []
    },
    {
      "cell_type": "code",
      "source": [
        "# We are using a different module of tensorflow (not regular)\n",
        "import tensorflow_probability as tfp\n",
        "import tensorflow as tf\n"
      ],
      "metadata": {
        "id": "EnPiced20Lkm"
      },
      "execution_count": 2,
      "outputs": []
    },
    {
      "cell_type": "markdown",
      "source": [
        "# A simple weather model.\n",
        "# 1.Represent a cold day with 0 and a hot day with 1.\n",
        "# 2.Suppose the first day of a sequence has a 0.8 chance of being cold.\n",
        "# 3.Suppose a cold day has a 30% chance of being followed by a hot day\n",
        "# 4.and a hot day has a 20% chance of being followed by a cold day.\n",
        "# 5.Suppose additionally that on each day the temperature is\n",
        "# 6.normally distributed with mean and standard deviation 0 and 5 on\n",
        "# 7.a cold day and mean and standard deviation 15 and 10 on a hot day."
      ],
      "metadata": {
        "id": "XdlvMEVj1ogg"
      }
    },
    {
      "cell_type": "code",
      "source": [
        "tfd = tfp.distributions # Making a shortcut for later on.\n",
        "initial_distribution = tfd.Categorical(probs=[0.8, 0.2]) # point no. 2nd reference mentioned above\n",
        "transition_distribution = tfd.Categorical(probs=[[0.7, 0.3],\n",
        "                                                 [0.2, 0.8]]) # Refers to point 3,4,5 above mentioned\n",
        "observation_distribution = tfd.Normal(loc=[0., 15.], scale=[5., 10.]) #arugemnt in loc represents mean and in scale represents standard deviation"
      ],
      "metadata": {
        "id": "bDkMYedS1iQb"
      },
      "execution_count": 3,
      "outputs": []
    },
    {
      "cell_type": "code",
      "source": [
        "# We have defined all our required variable so now we gonna create our model\n",
        "model = tfd.HiddenMarkovModel(\n",
        "    initial_distribution=initial_distribution,\n",
        "    transition_distribution=transition_distribution,\n",
        "    observation_distribution=observation_distribution,\n",
        "    num_steps=7)\n"
      ],
      "metadata": {
        "id": "H_-bHfiY2zJs"
      },
      "execution_count": 4,
      "outputs": []
    },
    {
      "cell_type": "code",
      "source": [
        "mean = model.mean()\n",
        "# due to the way tensorflow works on a lower level we need to evaluate part of the graph\n",
        "# from within a session to see the value of this tensor\n",
        "# in new version of tensorflow we need to use tf.compat.v1.Session() rather than just tf.Session()\n",
        "with tf.compat.v1.Session() as sess:\n",
        "  print(\"the Predicted temp. array for different days are as follow:  \", mean.numpy())"
      ],
      "metadata": {
        "colab": {
          "base_uri": "https://localhost:8080/"
        },
        "id": "0vLmRqdi4tPd",
        "outputId": "64e969bd-398a-4f8e-983c-4d9037984bdd"
      },
      "execution_count": 10,
      "outputs": [
        {
          "output_type": "stream",
          "name": "stdout",
          "text": [
            "the Predicted temp. array for different days are as follow:   [3.        5.9999995 7.4999995 8.25      8.625001  8.812501  8.90625  ]\n"
          ]
        }
      ]
    },
    {
      "cell_type": "code",
      "source": [],
      "metadata": {
        "id": "mfLAPWRc7zKH"
      },
      "execution_count": null,
      "outputs": []
    }
  ]
}